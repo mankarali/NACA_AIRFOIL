{
 "cells": [
  {
   "cell_type": "markdown",
   "metadata": {},
   "source": [
    "# NACA 4 DIGIT AIRFOIL"
   ]
  },
  {
   "cell_type": "markdown",
   "metadata": {},
   "source": [
    "## NACA 4 digit airfoil specification"
   ]
  },
  {
   "cell_type": "markdown",
   "metadata": {},
   "source": [
    "This NACA airfoil series is controlled by 4 digits e.g. NACA 2412, which designate the camber, position of the maximum camber and thickness. If an airfoil number is\n",
    "\n",
    "**NACA MPXX**\n",
    "\n",
    "e.g.\n",
    "\n",
    "**NACA 2412**\n"
   ]
  },
  {
   "cell_type": "markdown",
   "metadata": {},
   "source": [
    "then:\n",
    "* \tM is the maximum camber divided by 100. In the example M=2 so the camber is 0.02 or 2% of the chord\n",
    "* \tP is the position of the maximum camber divided by 10. In the example P=4 so the maximum camber is at 0.4 or 40% of the chord.\n",
    "* \tXX is the thickness divided by 100. In the example XX=12 so the thiickness is 0.12 or 12% of the chord.\n",
    "\n",
    "    "
   ]
  },
  {
   "cell_type": "markdown",
   "metadata": {},
   "source": [
    "## NACA 4 digit airfoil calculation"
   ]
  },
  {
   "cell_type": "markdown",
   "metadata": {},
   "source": [
    "The NACA airfoil section is created from a camber line and a thickness distribution plotted perpendicular to the camber line.\n",
    "\n",
    "The equation for the camber line is split into sections either side of the point of maximum camber position (P). In order to calculate the position of the final airfoil envelope later the gradient of the camber line is also required. The equations are:\n"
   ]
  },
  {
   "attachments": {
    "formule1.PNG": {
     "image/png": "[encoded data removed]"
    }
   },
   "cell_type": "markdown",
   "metadata": {},
   "source": [
    "![formule1.PNG](attachment:formule1.PNG)"
   ]
  },
  {
   "cell_type": "markdown",
   "metadata": {},
   "source": [
    "The thickness distribution is given by the equation:"
   ]
  },
  {
   "attachments": {
    "formule2.PNG": {
     "image/png": "[encoded data removed]"
    }
   },
   "cell_type": "markdown",
   "metadata": {},
   "source": [
    "![formule2.PNG](attachment:formule2.PNG)"
   ]
  },
  {
   "cell_type": "markdown",
   "metadata": {},
   "source": [
    "Where:"
   ]
  },
  {
   "attachments": {
    "formule3.PNG": {
     "image/png": "[encoded data removed]"
    }
   },
   "cell_type": "markdown",
   "metadata": {},
   "source": [
    "![formule3.PNG](attachment:formule3.PNG)"
   ]
  },
  {
   "cell_type": "markdown",
   "metadata": {},
   "source": [
    "•\tThe constants a0 to a4 are for a 20% thick airfoil. The expression T/0.2 adjusts the constants to the required thickness.\n",
    "\n",
    "•\tAt the trailing edge (x=1) there is a finite thickness of 0.0021 chord width for a 20% airfoil. If a closed trailing edge is required the value of a4 can be adjusted.\n",
    "\n",
    "•\tThe value of yt is a half thickness and needs to be applied both sides of the camber line.\n",
    "Using the equations above, for a given value of x it is possible to calculate the camber line position Yc, the gradient of the camber line and the thickness. The position of the upper and lower surface can then be calculated perpendicular to the camber line.\n"
   ]
  },
  {
   "attachments": {
    "formule4.PNG": {
     "image/png": "[encoded data removed]"
    }
   },
   "cell_type": "markdown",
   "metadata": {},
   "source": [
    "![formule4.PNG](attachment:formule4.PNG)"
   ]
  },
  {
   "cell_type": "markdown",
   "metadata": {},
   "source": [
    "The most obvious way to to plot the airfoil is to iterate through equally spaced values of x calclating the upper and lower surface coordinates. While this works, the points are more widely spaced around the leading edge where the curvature is greatest and flat sections can be seen on the plots. To group the points at the ends of the airfoil sections a cosine spacing is used with uniform increments of β"
   ]
  },
  {
   "attachments": {
    "formule5.PNG": {
     "image/png": "[encoded data removed]"
    }
   },
   "cell_type": "markdown",
   "metadata": {},
   "source": [
    "![formule5.PNG](attachment:formule5.PNG)"
   ]
  },
  {
   "cell_type": "code",
   "execution_count": 1,
   "metadata": {},
   "outputs": [],
   "source": [
    "import numpy as np\n",
    "import pandas as pd\n",
    "import matplotlib.pyplot as plt\n",
    "import seaborn as sns\n",
    "\n",
    "from math import cos, sin\n",
    "from math import atan\n",
    "from math import pi\n",
    "from math import pow\n",
    "from math import sqrt\n",
    "\n",
    "\n",
    "default_FT = False\n",
    "default_HalfCosine = False\n",
    "\n",
    "def linspace(first,last,np):\n",
    "    \"\"\"\n",
    "    Emulate Matlab linspace\n",
    "    \"\"\"\n",
    "    return [first+(last-first)*i/(np-1) for i in range(np)]\n",
    "\n",
    "\n",
    "\n",
    "def naca4(profile, n, finite_TE = default_FT, half_cosine_spacing = default_HalfCosine):\n",
    "\n",
    "    # NACA MPTT\n",
    "    \n",
    "    M = float(profile[0])/100\n",
    "    P = float(profile[1])/10\n",
    "    TT = float(profile[2:])/100\n",
    "\n",
    "    a0 = 0.2969\n",
    "    a1 = -0.1260\n",
    "    a2 = -0.3516\n",
    "    a3 = 0.2843\n",
    "\n",
    "    if finite_TE:\n",
    "        a4 = -0.1015 # For finite thick TE\n",
    "    else:\n",
    "        a4 = -0.1036 # For zero thick TE\n",
    "\n",
    "    if half_cosine_spacing:\n",
    "        beta = linspace(0.0,pi,n+1)\n",
    "        x = [((1-cos(bt))/2) for xx in beta]  # Half cosine based spacing\n",
    "    else:\n",
    "        x = linspace(0.0,1.0,n+1)\n",
    "\n",
    "    yt = [(TT/0.2)*(a0*pow(bt,0.5)+a1*bt+a2*pow(bt,2)+a3*pow(bt,3)+a4*pow(bt,4)) for bt in x]\n",
    "\n",
    "    xc1 = [bt for bt in x if bt <= P]\n",
    "    xc2 = [bt for bt in x if bt > P]\n",
    "\n",
    "    if P == 0:\n",
    "        xu = x\n",
    "        yu = yt\n",
    "\n",
    "        xl = x\n",
    "        yl = [-bt for bt in yt]\n",
    "\n",
    "        xc = xc1 + xc2\n",
    "        zc = [0]*len(xc)\n",
    "    else:\n",
    "        yc1 = [M/pow(P,2)*bt*(2*P-bt) for bt in xc1]\n",
    "        yc2 = [M/pow(1-P,2)*(1-2*P+bt)*(1-bt) for bt in xc2]\n",
    "        zc = yc1 + yc2\n",
    "\n",
    "        dyc1_dx = [M/pow(P,2)*(2*P-2*bt) for bt in xc1]\n",
    "        dyc2_dx = [M/pow(1-P,2)*(2*P-2*bt) for bt in xc2]\n",
    "        dyc_dx = dyc1_dx + dyc2_dx\n",
    "\n",
    "        teta = [atan(bt) for bt in dyc_dx]\n",
    "\n",
    "        xu = [bt - yy * sin(zz) for bt,yy,zz in zip(x,yt,teta)]\n",
    "        yu = [bt + yy * cos(zz) for bt,yy,zz in zip(zc,yt,teta)]\n",
    "\n",
    "        xl = [bt + yy * sin(zz) for bt,yy,zz in zip(x,yt,teta)]\n",
    "        yl = [bt - yy * cos(zz) for bt,yy,zz in zip(zc,yt,teta)]\n",
    "\n",
    "    X = xu[::-1] + xl[1:]\n",
    "    Z = yu[::-1] + yl[1:]\n",
    "    \n",
    "    d = {'X': X, 'Z': Z}\n",
    "    df = pd.DataFrame(data=d)\n",
    "    \n",
    "    np.savetxt(\"NACA\"+profile+\".txt\", df.values, fmt='%10.6f',header=\"    NACA \"+profile,comments='')\n",
    "    print(\"Zmax: \", round(max(Z), 6))\n",
    "    axv=X[Z.index(max(Z))]\n",
    "    print(\"X(Zmax): \", round(axv, 6))\n",
    "    colors = (0,0,0)\n",
    "    plt.figure(figsize=(18,4))\n",
    "    \n",
    "    plt.scatter(X, Z,alpha=0.5)\n",
    "    plt.axhline(y=0, color='r', linestyle='-')\n",
    "    plt.axvline(x=axv, color='r', linestyle='-')\n",
    "    \n",
    "    plt.title(\"NACA \"+profile)\n",
    "    plt.xlabel('X')\n",
    "    plt.ylabel('Z')\n",
    "    plt.savefig(\"NACA\"+profile+\".png\")\n",
    "    plt.show()\n",
    "    \n",
    "\n",
    "    return(df)\n",
    "\n"
   ]
  },
  {
   "cell_type": "code",
   "execution_count": 4,
   "metadata": {},
   "outputs": [
    {
     "name": "stdout",
     "output_type": "stream",
     "text": [
      "NACA 4 digit profile code: 2412\n",
      "Zmax:  0.079199\n",
      "X(Zmax):  0.334029\n"
     ]
    },
    {
     "data": {
      "image/png": "[encoded data removed]",
      "text/plain": [
       "<Figure size 1296x288 with 1 Axes>"
      ]
     },
     "metadata": {
      "needs_background": "light"
     },
     "output_type": "display_data"
    },
    {
     "data": {
      "text/html": [
       "<div>\n",
       "<style scoped>\n",
       "    .dataframe tbody tr th:only-of-type {\n",
       "        vertical-align: middle;\n",
       "    }\n",
       "\n",
       "    .dataframe tbody tr th {\n",
       "        vertical-align: top;\n",
       "    }\n",
       "\n",
       "    .dataframe thead th {\n",
       "        text-align: right;\n",
       "    }\n",
       "</style>\n",
       "<table border=\"1\" class=\"dataframe\">\n",
       "  <thead>\n",
       "    <tr style=\"text-align: right;\">\n",
       "      <th></th>\n",
       "      <th>X</th>\n",
       "      <th>Z</th>\n",
       "    </tr>\n",
       "  </thead>\n",
       "  <tbody>\n",
       "    <tr>\n",
       "      <th>0</th>\n",
       "      <td>1.000000</td>\n",
       "      <td>-1.661646e-17</td>\n",
       "    </tr>\n",
       "    <tr>\n",
       "      <th>1</th>\n",
       "      <td>0.995048</td>\n",
       "      <td>1.054764e-03</td>\n",
       "    </tr>\n",
       "    <tr>\n",
       "      <th>2</th>\n",
       "      <td>0.990094</td>\n",
       "      <td>2.102139e-03</td>\n",
       "    </tr>\n",
       "    <tr>\n",
       "      <th>3</th>\n",
       "      <td>0.985140</td>\n",
       "      <td>3.142175e-03</td>\n",
       "    </tr>\n",
       "    <tr>\n",
       "      <th>4</th>\n",
       "      <td>0.980185</td>\n",
       "      <td>4.174916e-03</td>\n",
       "    </tr>\n",
       "    <tr>\n",
       "      <th>...</th>\n",
       "      <td>...</td>\n",
       "      <td>...</td>\n",
       "    </tr>\n",
       "    <tr>\n",
       "      <th>396</th>\n",
       "      <td>0.979815</td>\n",
       "      <td>-1.552694e-03</td>\n",
       "    </tr>\n",
       "    <tr>\n",
       "      <th>397</th>\n",
       "      <td>0.984860</td>\n",
       "      <td>-1.167175e-03</td>\n",
       "    </tr>\n",
       "    <tr>\n",
       "      <th>398</th>\n",
       "      <td>0.989906</td>\n",
       "      <td>-7.799173e-04</td>\n",
       "    </tr>\n",
       "    <tr>\n",
       "      <th>399</th>\n",
       "      <td>0.994952</td>\n",
       "      <td>-3.908748e-04</td>\n",
       "    </tr>\n",
       "    <tr>\n",
       "      <th>400</th>\n",
       "      <td>1.000000</td>\n",
       "      <td>1.661646e-17</td>\n",
       "    </tr>\n",
       "  </tbody>\n",
       "</table>\n",
       "<p>401 rows × 2 columns</p>\n",
       "</div>"
      ],
      "text/plain": [
       "            X             Z\n",
       "0    1.000000 -1.661646e-17\n",
       "1    0.995048  1.054764e-03\n",
       "2    0.990094  2.102139e-03\n",
       "3    0.985140  3.142175e-03\n",
       "4    0.980185  4.174916e-03\n",
       "..        ...           ...\n",
       "396  0.979815 -1.552694e-03\n",
       "397  0.984860 -1.167175e-03\n",
       "398  0.989906 -7.799173e-04\n",
       "399  0.994952 -3.908748e-04\n",
       "400  1.000000  1.661646e-17\n",
       "\n",
       "[401 rows x 2 columns]"
      ]
     },
     "execution_count": 4,
     "metadata": {},
     "output_type": "execute_result"
    }
   ],
   "source": [
    "profile = input(\"NACA 4 digit profile code: \")\n",
    "naca4(profile, n=200, finite_TE = default_FT, half_cosine_spacing = default_HalfCosine)\n"
   ]
  },
  {
   "cell_type": "code",
   "execution_count": null,
   "metadata": {},
   "outputs": [],
   "source": []
  }
 ],
 "metadata": {
  "kernelspec": {
   "display_name": "Python 3",
   "language": "python",
   "name": "python3"
  },
  "language_info": {
   "codemirror_mode": {
    "name": "ipython",
    "version": 3
   },
   "file_extension": ".py",
   "mimetype": "text/x-python",
   "name": "python",
   "nbconvert_exporter": "python",
   "pygments_lexer": "ipython3",
   "version": "3.7.9"
  }
 },
 "nbformat": 4,
 "nbformat_minor": 4
}
